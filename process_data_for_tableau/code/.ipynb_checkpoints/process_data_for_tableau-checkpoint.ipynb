{
 "cells": [
  {
   "cell_type": "code",
   "execution_count": 1,
   "id": "31a096b1-ccea-4d73-b35c-915d3deec6eb",
   "metadata": {},
   "outputs": [],
   "source": [
    "import pandas as pd\n",
    "from pathlib import Path\n",
    "import regex as re"
   ]
  },
  {
   "cell_type": "code",
   "execution_count": 2,
   "id": "d26911d6-7633-4aa3-9eae-f6c71615e000",
   "metadata": {},
   "outputs": [],
   "source": [
    "root_folderpath = Path(r\"C:\\Users\\jasonjia\\Dropbox\\shared_spaces\\Jason-Kilian\\Danish Macro\\disaggregated_accounts\\process_data_for_tableau\")\n",
    "matrices_individual_folderpath = Path(root_folderpath / r\"data\\matrices_individual\")\n",
    "matrices_dividends_folderpath =  Path(root_folderpath / r\"data\\matrices_dividends\")\n",
    "vectors_individual_folderpath = Path(root_folderpath / r\"data\\vectors_individual\")\n",
    "vectors_consumer_flows_folderpath = Path(root_folderpath / r\"data\\vectors_consumer_flows\")\n",
    "vectors_producer_flows_folderpath = Path(root_folderpath / r\"data\\vectors_producer_flows\")\n",
    "muni_names_filepath = Path(root_folderpath / r\"data\\crosswalk\\dk_municipalities_code_to_name.xlsx\")\n",
    "output_folderpath = Path(root_folderpath / r\"output_csv\")"
   ]
  },
  {
   "cell_type": "code",
   "execution_count": 3,
   "id": "791fe9dd-ce96-4c9e-8045-90514f6bf118",
   "metadata": {},
   "outputs": [
    {
     "data": {
      "text/plain": [
       "code    string\n",
       "name    string\n",
       "dtype: object"
      ]
     },
     "execution_count": 3,
     "metadata": {},
     "output_type": "execute_result"
    }
   ],
   "source": [
    "muni_names_crosswalk = pd.read_excel(muni_names_filepath)\n",
    "muni_names_crosswalk = muni_names_crosswalk.convert_dtypes()\n",
    "muni_names_crosswalk.dtypes"
   ]
  },
  {
   "cell_type": "markdown",
   "id": "22d4b9ed-17ad-4b30-acce-61c9a3e3767f",
   "metadata": {
    "tags": []
   },
   "source": [
    "# Process matrices"
   ]
  },
  {
   "cell_type": "markdown",
   "id": "e3cac73b-be00-4ff2-9549-13446fb13cef",
   "metadata": {},
   "source": [
    "## Process individual matrices (that don't require special processing)"
   ]
  },
  {
   "cell_type": "code",
   "execution_count": 4,
   "id": "a59d8d82-8c07-48e6-949a-c8862d1de60a",
   "metadata": {},
   "outputs": [],
   "source": [
    "def convert_munis_to_names(df, muni_names_crosswalk):\n",
    "    df = df.copy()\n",
    "    print(\"Initial state:\")\n",
    "    print(df.shape, df.columns)\n",
    "        \n",
    "    # Remove columns like 'prod_cell' and 'cust_cell'\n",
    "    for col in df.columns:\n",
    "        if 'cell' in col:\n",
    "            df = df.drop(col, axis=1)\n",
    "    print(\"After removing 'cell' variables:\")\n",
    "    print(df.shape, df.columns)\n",
    "        \n",
    "    # Convert 'muni' columns into string\n",
    "    for col in df.columns:\n",
    "        if 'muni' in col:\n",
    "            df[col] = df[col].astype('string')\n",
    "    print(df.dtypes)\n",
    "\n",
    "    # Convert values in sectors to integers, i.e. remove the 's' in 's01'\n",
    "    for col in df.columns:\n",
    "        if 'sector' in col:\n",
    "            df[col] = df[col].str.replace('s','')\n",
    "\n",
    "    # Convert munis into muni names, and drop the original munis.\n",
    "    df_merge = df.copy()\n",
    "    for col in df_merge.columns:\n",
    "        if '_muni' in col:\n",
    "            muni_name = col + '_name'\n",
    "            print(\"Processing:\", col)\n",
    "            print(\"Before merge:\", df.shape, df_merge.columns)\n",
    "            df_merge = df_merge.merge(muni_names_crosswalk, left_on=col, right_on='code', how='inner', validate='m:1')\n",
    "            assert(df_merge.shape[0] == df.shape[0])\n",
    "            print(\"After merge:\", df.shape, df_merge.columns)\n",
    "            df_merge = df_merge.rename(columns={'name':muni_name})\n",
    "            df_merge = df_merge.drop([col, 'code'], axis=1)\n",
    "            print(\"After processing:\", df.shape, df_merge.columns)\n",
    "    \n",
    "    return df_merge"
   ]
  },
  {
   "cell_type": "code",
   "execution_count": 5,
   "id": "a02edf0d-4a47-4dae-9586-0dccf72b95f0",
   "metadata": {},
   "outputs": [],
   "source": [
    "def save_df_to_csv(df, input_filepath, output_folderpath, suffix=''):\n",
    "    output_filename = input_filepath.stem + suffix + '.csv'\n",
    "    output_filepath = Path(output_folderpath / output_filename)\n",
    "    df.to_csv(output_filepath, index=False)\n",
    "    print(\"Saved as:\", output_filepath)"
   ]
  },
  {
   "cell_type": "code",
   "execution_count": null,
   "id": "bc857eda-7c3f-4a0b-9126-49c6514d31b4",
   "metadata": {},
   "outputs": [
    {
     "name": "stdout",
     "output_type": "stream",
     "text": [
      "C:\\Users\\jasonjia\\Dropbox\\shared_spaces\\Jason-Kilian\\Danish Macro\\disaggregated_accounts\\process_data_for_tableau\\data\\matrices_individual\\Domestic consumer spending matrix (predicted).csv\n",
      "Initial state:\n",
      "(4571504, 7) Index(['cust_muni', 'cust_sector', 'cust_cell', 'spend_muni', 'spend_sector',\n",
      "       'spend_cell', 's_'],\n",
      "      dtype='object')\n",
      "After removing 'cell' variables:\n",
      "(4571504, 5) Index(['cust_muni', 'cust_sector', 'spend_muni', 'spend_sector', 's_'], dtype='object')\n",
      "cust_muni        string\n",
      "cust_sector      object\n",
      "spend_muni       string\n",
      "spend_sector     object\n",
      "s_              float64\n",
      "dtype: object\n",
      "Processing: cust_muni\n",
      "Before merge: (4571504, 5) Index(['cust_muni', 'cust_sector', 'spend_muni', 'spend_sector', 's_'], dtype='object')\n",
      "After merge: (4571504, 5) Index(['cust_muni', 'cust_sector', 'spend_muni', 'spend_sector', 's_', 'code',\n",
      "       'name'],\n",
      "      dtype='object')\n",
      "After processing: (4571504, 5) Index(['cust_sector', 'spend_muni', 'spend_sector', 's_', 'cust_muni_name'], dtype='object')\n",
      "Processing: spend_muni\n",
      "Before merge: (4571504, 5) Index(['cust_sector', 'spend_muni', 'spend_sector', 's_', 'cust_muni_name'], dtype='object')\n",
      "After merge: (4571504, 5) Index(['cust_sector', 'spend_muni', 'spend_sector', 's_', 'cust_muni_name',\n",
      "       'code', 'name'],\n",
      "      dtype='object')\n",
      "After processing: (4571504, 5) Index(['cust_sector', 'spend_sector', 's_', 'cust_muni_name',\n",
      "       'spend_muni_name'],\n",
      "      dtype='object')\n",
      "Saved as: C:\\Users\\jasonjia\\Dropbox\\shared_spaces\\Jason-Kilian\\Danish Macro\\disaggregated_accounts\\process_data_for_tableau\\output_csv\\Domestic consumer spending matrix (predicted).csv\n",
      "\n",
      "-\n",
      "C:\\Users\\jasonjia\\Dropbox\\shared_spaces\\Jason-Kilian\\Danish Macro\\disaggregated_accounts\\process_data_for_tableau\\data\\matrices_individual\\Domestic intermediates.csv\n",
      "Initial state:\n",
      "(7001316, 5) Index(['supplier_muni', 'supplier_sector', 'user_muni', 'user_sector',\n",
      "       'trade_'],\n",
      "      dtype='object')\n",
      "After removing 'cell' variables:\n",
      "(7001316, 5) Index(['supplier_muni', 'supplier_sector', 'user_muni', 'user_sector',\n",
      "       'trade_'],\n",
      "      dtype='object')\n",
      "supplier_muni       string\n",
      "supplier_sector     object\n",
      "user_muni           string\n",
      "user_sector         object\n",
      "trade_             float64\n",
      "dtype: object\n",
      "Processing: supplier_muni\n",
      "Before merge: (7001316, 5) Index(['supplier_muni', 'supplier_sector', 'user_muni', 'user_sector',\n",
      "       'trade_'],\n",
      "      dtype='object')\n",
      "After merge: (7001316, 5) Index(['supplier_muni', 'supplier_sector', 'user_muni', 'user_sector',\n",
      "       'trade_', 'code', 'name'],\n",
      "      dtype='object')\n",
      "After processing: (7001316, 5) Index(['supplier_sector', 'user_muni', 'user_sector', 'trade_',\n",
      "       'supplier_muni_name'],\n",
      "      dtype='object')\n",
      "Processing: user_muni\n",
      "Before merge: (7001316, 5) Index(['supplier_sector', 'user_muni', 'user_sector', 'trade_',\n",
      "       'supplier_muni_name'],\n",
      "      dtype='object')\n",
      "After merge: (7001316, 5) Index(['supplier_sector', 'user_muni', 'user_sector', 'trade_',\n",
      "       'supplier_muni_name', 'code', 'name'],\n",
      "      dtype='object')\n",
      "After processing: (7001316, 5) Index(['supplier_sector', 'user_sector', 'trade_', 'supplier_muni_name',\n",
      "       'user_muni_name'],\n",
      "      dtype='object')\n",
      "Saved as: C:\\Users\\jasonjia\\Dropbox\\shared_spaces\\Jason-Kilian\\Danish Macro\\disaggregated_accounts\\process_data_for_tableau\\output_csv\\Domestic intermediates.csv\n",
      "\n",
      "-\n",
      "C:\\Users\\jasonjia\\Dropbox\\shared_spaces\\Jason-Kilian\\Danish Macro\\disaggregated_accounts\\process_data_for_tableau\\data\\matrices_individual\\Labor compensation.csv\n"
     ]
    }
   ],
   "source": [
    "for matrix_filepath in matrices_individual_folderpath.iterdir():\n",
    "    print(matrix_filepath)\n",
    "    df = pd.read_csv(matrix_filepath, low_memory=False)\n",
    "    \n",
    "    # Create a new df where munis are converted to names, then save as csv\n",
    "    df_merge = convert_munis_to_names(df, muni_names_crosswalk)\n",
    "    save_df_to_csv(df_merge, matrix_filepath, output_folderpath)\n",
    "    \n",
    "    print('\\n-')"
   ]
  },
  {
   "cell_type": "markdown",
   "id": "df4a9cc2-7b77-498b-8850-176d1205f0e7",
   "metadata": {},
   "source": [
    "## Process the dividends matrix (that requires special processing)\n",
    "Note: we will be breaking the dividends matrix up into 2 vectors. Also, even though this is written as a loop for generalization, only 1 file is expected."
   ]
  },
  {
   "cell_type": "code",
   "execution_count": null,
   "id": "45b230fc-8e1c-48b8-8a70-adec981c191d",
   "metadata": {},
   "outputs": [],
   "source": [
    "for matrix_filepath in matrices_dividends_folderpath.iterdir():\n",
    "    print(matrix_filepath)\n",
    "    df = pd.read_csv(matrix_filepath, low_memory=False)\n",
    "        \n",
    "    # Create 2 new 'vectors', one where the producer cells are aggregated and the other where the consumer cells are aggregated\n",
    "    df_producer = df.groupby(['prod_muni', 'prod_sector', 'prod_cell']).sum().reset_index().drop('cust_muni', axis=1)\n",
    "    df_consumer = df.groupby(['cust_muni', 'cust_sector', 'cust_cell']).sum().reset_index().drop('prod_muni', axis=1)\n",
    "    # Save the producer vector to vectors_producer_flows_folderpath and the consumer vector to vectors_consumer_flows_folderpath\n",
    "    # These 2 vectors will be processed together with the existing vectors, to form the additional producer/consumer flows files. \n",
    "    save_df_to_csv(df_producer, Path('Producer dividends paid.csv'), vectors_producer_flows_folderpath)\n",
    "    save_df_to_csv(df_consumer, Path('Consumer dividends received.csv'), vectors_consumer_flows_folderpath)\n",
    "    \n",
    "    print('\\n-')"
   ]
  },
  {
   "cell_type": "code",
   "execution_count": null,
   "id": "ca35c4c0-1fa1-46a1-b862-68bb97405887",
   "metadata": {},
   "outputs": [],
   "source": [
    "df_producer"
   ]
  },
  {
   "cell_type": "code",
   "execution_count": null,
   "id": "3f251912-85b9-4329-8962-eab6345ea43c",
   "metadata": {},
   "outputs": [],
   "source": [
    "df_consumer"
   ]
  },
  {
   "cell_type": "markdown",
   "id": "a1ed52bb-1081-4c57-afe0-84346dc437b6",
   "metadata": {},
   "source": [
    "# Process vectors"
   ]
  },
  {
   "cell_type": "markdown",
   "id": "959002f1-2fff-4ccb-ae68-482ad59af230",
   "metadata": {},
   "source": [
    "## Process individual vectors (foreign consumer spending)"
   ]
  },
  {
   "cell_type": "code",
   "execution_count": null,
   "id": "93913ba9-2e2d-487d-b57d-7183411cedd4",
   "metadata": {},
   "outputs": [],
   "source": [
    "for vector_individual_filepath in vectors_individual_folderpath.iterdir():\n",
    "    print(vector_individual_filepath)\n",
    "    df = pd.read_csv(vector_individual_filepath, low_memory=False)\n",
    "    \n",
    "    # Create a new df where munis are converted to names, then save as csv\n",
    "    df_merge = convert_munis_to_names(df, muni_names_crosswalk)\n",
    "    save_df_to_csv(df_merge, vector_individual_filepath, output_folderpath)\n",
    "    \n",
    "    print('\\n-')"
   ]
  },
  {
   "cell_type": "markdown",
   "id": "62da55f5-22ec-4cc4-9c06-08f5550d7cc2",
   "metadata": {},
   "source": [
    "## Process consumer flows vectors\n",
    "Note: surplus of owner-occupied housing to consumers has both cust and prod cell in the raw data, but the prod cell is always cust muni + s88, so we will remove it. This effectively reduces the matrix into a vector, which will be added to the list of consumer flow vectors."
   ]
  },
  {
   "cell_type": "code",
   "execution_count": null,
   "id": "bc99e754-a03f-4db7-b1de-be1710adf3d5",
   "metadata": {},
   "outputs": [],
   "source": [
    "def get_var_name_in_table(df):\n",
    "    for col in df.columns:\n",
    "        if not('_muni' in col) and not('_sector' in col):\n",
    "            return col"
   ]
  },
  {
   "cell_type": "code",
   "execution_count": null,
   "id": "9d30b9cf-6216-4df9-8f60-13e29fd185d2",
   "metadata": {},
   "outputs": [],
   "source": [
    "def process_vector(vector_filepath, player):\n",
    "    # The csv files come in different types. Process each accordingly.\n",
    "    # The goal is to get 3 columns per df: cust_muni, cust_sector, and the variable of interest.\n",
    "    print(vector_filepath)\n",
    "    df = pd.read_csv(vector_filepath, low_memory=False, header=None)\n",
    "    var_name = vector_filepath.stem\n",
    "\n",
    "    if df.shape[0] < df.shape[1]:\n",
    "        df = df.transpose()\n",
    "\n",
    "    if df.shape[1] > 2:\n",
    "        df = pd.read_csv(vector_filepath, low_memory=False)\n",
    "        # To deal with surplus of owner-occupied housing\n",
    "        if 'cust_cell' in df.columns:\n",
    "            df = df.drop('cust_cell', axis=1)\n",
    "        if 'prod_cell' in df.columns:\n",
    "            df = df.drop('prod_cell', axis=1) \n",
    "        var_name_in_table = get_var_name_in_table(df)\n",
    "        # Process muni and sector\n",
    "        df[f'{player}_muni'] = df[f'{player}_muni'].astype('str')\n",
    "        df[f'{player}_sector'] = df[f'{player}_sector'].str.replace('s','').astype('str')\n",
    "        df['var_name'] = var_name\n",
    "        print(f\"Variable names: {var_name} (csv file stem), {var_name_in_table} (col header)\")\n",
    "        df = df.rename(columns={var_name_in_table:'value'})\n",
    "    elif df.shape[1] == 2:\n",
    "        df.columns = [f'{player}_cell', 'value'] \n",
    "        df['var_name'] = var_name\n",
    "        df[f'{player}_muni'] = df[f'{player}_cell'].str[1:4].astype('str')\n",
    "        df[f'{player}_sector'] = df[f'{player}_cell'].str[-2:].astype('str')\n",
    "        df = df.drop(f'{player}_cell', axis=1)\n",
    "    \n",
    "    print(\"Processed df_vector.shape:\", df.shape)\n",
    "    return df"
   ]
  },
  {
   "cell_type": "code",
   "execution_count": null,
   "id": "c2da9783-a138-4130-bbfd-d018b3497278",
   "metadata": {},
   "outputs": [],
   "source": [
    "def compile_vectors_into_df(vectors_consumer_flows_folderpath, player):\n",
    "    df = pd.DataFrame()\n",
    "    for vector_filepath in vectors_consumer_flows_folderpath.iterdir():\n",
    "        if vector_filepath.suffix == '.csv':\n",
    "            df_vector = process_vector(vector_filepath, player)\n",
    "            if df.shape == (0,0):\n",
    "                df = df_vector\n",
    "                print(\"df.shape:\", df.shape)\n",
    "            else:\n",
    "                df = pd.concat([df, df_vector], axis=0)\n",
    "                print(\"df.shape:\", df.shape)\n",
    "    return df"
   ]
  },
  {
   "cell_type": "code",
   "execution_count": null,
   "id": "fce1b114-edd9-4d3d-8985-02ebd81d7ee7",
   "metadata": {},
   "outputs": [],
   "source": [
    "df = compile_vectors_into_df(vectors_consumer_flows_folderpath, player='cust')\n",
    "df_merge = convert_munis_to_names(df, muni_names_crosswalk)\n",
    "save_df_to_csv(df_merge, Path('Additional consumer flows.csv'), output_folderpath)\n",
    "df_merge"
   ]
  },
  {
   "cell_type": "markdown",
   "id": "6b9ab7fc-4fb6-4738-b4c8-3ee9a3745b07",
   "metadata": {},
   "source": [
    "## Process producer flows vectors"
   ]
  },
  {
   "cell_type": "code",
   "execution_count": null,
   "id": "1fb70c83-7b18-463e-ac64-90c69d3d26e9",
   "metadata": {},
   "outputs": [],
   "source": [
    "df = compile_vectors_into_df(vectors_producer_flows_folderpath, player='prod')\n",
    "df_merge = convert_munis_to_names(df, muni_names_crosswalk)\n",
    "save_df_to_csv(df_merge, Path('Additional producer flows.csv'), output_folderpath)\n",
    "df_merge"
   ]
  },
  {
   "cell_type": "code",
   "execution_count": null,
   "id": "40e8fecf-c48a-4ae0-abee-636ec28fb919",
   "metadata": {},
   "outputs": [],
   "source": []
  }
 ],
 "metadata": {
  "kernelspec": {
   "display_name": "Python 3 (ipykernel)",
   "language": "python",
   "name": "python3"
  },
  "language_info": {
   "codemirror_mode": {
    "name": "ipython",
    "version": 3
   },
   "file_extension": ".py",
   "mimetype": "text/x-python",
   "name": "python",
   "nbconvert_exporter": "python",
   "pygments_lexer": "ipython3",
   "version": "3.9.7"
  }
 },
 "nbformat": 4,
 "nbformat_minor": 5
}
