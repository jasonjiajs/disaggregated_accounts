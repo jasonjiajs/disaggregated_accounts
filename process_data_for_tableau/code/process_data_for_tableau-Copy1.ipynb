{
 "cells": [
  {
   "cell_type": "code",
   "execution_count": 1,
   "id": "31a096b1-ccea-4d73-b35c-915d3deec6eb",
   "metadata": {},
   "outputs": [],
   "source": [
    "import pandas as pd\n",
    "from pathlib import Path"
   ]
  },
  {
   "cell_type": "code",
   "execution_count": 2,
   "id": "d26911d6-7633-4aa3-9eae-f6c71615e000",
   "metadata": {},
   "outputs": [],
   "source": [
    "root_folderpath = Path(r\"C:\\Users\\jasonjia\\Dropbox\\projects\\disaggregated_accounts\\preprocess_data\")\n",
    "matrices_folderpath = Path(root_folderpath / r\"data\\matrices\")\n",
    "vectors_folderpath = Path(root_folderpath / r\"data\\vectors\")\n",
    "muni_names_filepath = Path(root_folderpath / r\"data\\crosswalk\\dk_municipalities_code_to_name.xlsx\")\n",
    "output_folderpath = Path(root_folderpath / r\"output\")"
   ]
  },
  {
   "cell_type": "code",
   "execution_count": 3,
   "id": "791fe9dd-ce96-4c9e-8045-90514f6bf118",
   "metadata": {},
   "outputs": [
    {
     "data": {
      "text/plain": [
       "code    string\n",
       "name    string\n",
       "dtype: object"
      ]
     },
     "execution_count": 3,
     "metadata": {},
     "output_type": "execute_result"
    }
   ],
   "source": [
    "muni_names_crosswalk = pd.read_excel(muni_names_filepath)\n",
    "muni_names_crosswalk = muni_names_crosswalk.convert_dtypes()\n",
    "muni_names_crosswalk.dtypes"
   ]
  },
  {
   "cell_type": "markdown",
   "id": "22d4b9ed-17ad-4b30-acce-61c9a3e3767f",
   "metadata": {},
   "source": [
    "# Process matrices"
   ]
  },
  {
   "cell_type": "code",
   "execution_count": 6,
   "id": "bc857eda-7c3f-4a0b-9126-49c6514d31b4",
   "metadata": {},
   "outputs": [
    {
     "name": "stdout",
     "output_type": "stream",
     "text": [
      "C:\\Users\\jasonjia\\Dropbox\\projects\\disaggregated_accounts\\preprocess_data\\data\\matrices\\01_Domestic consumer spending matrix (predicted).csv\n",
      "[101 147 151 153 155 157 159 161 163 165 167 169 173 175 183 185 187 190\n",
      " 201 210 217 219 223 230 240 250 253 259 260 265 269 270 306 316 320 326\n",
      " 329 330 336 340 350 360 370 376 390 400 410 420 430 440 450 461 479 480\n",
      " 482 492 510 530 540 550 561 563 573 575 580 607 615 621 630 657 661 665\n",
      " 671 706 707 710 727 730 740 741 746 751 756 760 766 773 779 787 791 810\n",
      " 813 820 825 840 846 849 851 860]\n",
      "[740 479 730 316 165 329 190 661 167 155 269 250 175 480 550 326 230 773\n",
      " 813 173 710 727 101 450 370 183 320 253 161 410 187 860 390 440 201 330\n",
      " 630 779 169 851 746 400 657 540 163 615 147 840 760 563 420 270 260 766\n",
      " 580 707 360 849 561 157 825 376 621 787 336 575 223 259 706 820 482 846\n",
      " 240 210 665 265 751 153 350 810 430 791 219 217 340 159 756 741 185 492\n",
      " 671 461 306 510 607 151 573 530]\n",
      "C:\\Users\\jasonjia\\Dropbox\\projects\\disaggregated_accounts\\preprocess_data\\data\\matrices\\10_Labor compensation.csv\n",
      "[101 147 151 153 155 157 159 161 163 165 167 169 173 175 183 185 187 190\n",
      " 201 210 217 219 223 230 240 250 253 259 260 265 269 270 306 316 320 326\n",
      " 329 330 336 340 350 360 370 376 390 400 410 420 430 440 450 461 479 480\n",
      " 482 492 510 530 540 550 561 563 573 575 580 607 615 621 630 657 661 665\n",
      " 671 706 707 710 727 730 740 741 746 751 756 760 766 773 779 787 791 810\n",
      " 813 820 825 840 846 849 851 860]\n",
      "C:\\Users\\jasonjia\\Dropbox\\projects\\disaggregated_accounts\\preprocess_data\\data\\matrices\\11_Mixed income from non-corporate producers.csv\n",
      "[101 147 151 153 155 157 159 161 163 165 167 169 173 175 183 185 187 190\n",
      " 201 210 217 219 223 230 240 250 253 259 260 265 269 270 306 316 320 326\n",
      " 329 330 336 340 350 360 370 376 390 400 410 420 430 440 450 461 479 480\n",
      " 482 492 510 530 540 550 561 563 573 575 580 607 615 621 630 657 661 665\n",
      " 671 706 707 710 727 730 740 741 746 751 756 760 766 773 779 787 791 810\n",
      " 813 820 825 840 846 849 851 860]\n",
      "C:\\Users\\jasonjia\\Dropbox\\projects\\disaggregated_accounts\\preprocess_data\\data\\matrices\\12_Surplus of corporate producers to consumers (dividends).csv\n",
      "[101 147 151 153 155 157 159 161 163 165 167 169 173 175 183 185 187 190\n",
      " 201 210 217 219 223 230 240 250 253 259 260 265 269 270 306 316 320 326\n",
      " 329 330 336 340 350 360 370 376 390 400 410 420 430 440 450 461 479 480\n",
      " 482 492 510 530 540 550 561 563 573 575 580 607 615 621 630 657 661 665\n",
      " 671 706 707 710 727 730 740 741 746 751 756 760 766 773 779 787 791 810\n",
      " 813 820 825 840 846 849 851 860]\n",
      "C:\\Users\\jasonjia\\Dropbox\\projects\\disaggregated_accounts\\preprocess_data\\data\\matrices\\20_Domestic intermediates.csv\n"
     ]
    }
   ],
   "source": [
    "for matrix_filepath in matrices_folderpath.iterdir():\n",
    "    print(matrix_filepath)\n",
    "    df = pd.read_csv(matrix_filepath, low_memory=False)\n",
    "    if 'spend_muni' in df.columns:\n",
    "        print(df['spend_muni'].unique())\n",
    "    if 'cust_muni' in df.columns:\n",
    "        print(df['cust_muni'].unique())"
   ]
  },
  {
   "cell_type": "markdown",
   "id": "a1ed52bb-1081-4c57-afe0-84346dc437b6",
   "metadata": {},
   "source": [
    "# Process vectors"
   ]
  },
  {
   "cell_type": "code",
   "execution_count": null,
   "id": "93913ba9-2e2d-487d-b57d-7183411cedd4",
   "metadata": {},
   "outputs": [],
   "source": []
  },
  {
   "cell_type": "code",
   "execution_count": null,
   "id": "089eef76-eb82-4943-8330-bac72471be95",
   "metadata": {},
   "outputs": [],
   "source": []
  },
  {
   "cell_type": "code",
   "execution_count": null,
   "id": "1fb70c83-7b18-463e-ac64-90c69d3d26e9",
   "metadata": {},
   "outputs": [],
   "source": []
  },
  {
   "cell_type": "code",
   "execution_count": null,
   "id": "40e8fecf-c48a-4ae0-abee-636ec28fb919",
   "metadata": {},
   "outputs": [],
   "source": []
  }
 ],
 "metadata": {
  "kernelspec": {
   "display_name": "Python 3 (ipykernel)",
   "language": "python",
   "name": "python3"
  },
  "language_info": {
   "codemirror_mode": {
    "name": "ipython",
    "version": 3
   },
   "file_extension": ".py",
   "mimetype": "text/x-python",
   "name": "python",
   "nbconvert_exporter": "python",
   "pygments_lexer": "ipython3",
   "version": "3.9.7"
  }
 },
 "nbformat": 4,
 "nbformat_minor": 5
}
